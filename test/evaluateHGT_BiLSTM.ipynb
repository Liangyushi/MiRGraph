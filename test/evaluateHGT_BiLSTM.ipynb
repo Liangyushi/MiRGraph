{
 "cells": [
  {
   "cell_type": "code",
   "execution_count": 1,
   "id": "8e18a30b",
   "metadata": {},
   "outputs": [],
   "source": [
    "import os\n",
    "import pickle\n",
    "#import rpy2.robjects as robjects\n",
    "import torch\n",
    "from torch.autograd import Variable\n",
    "import torch.nn.functional as F\n",
    "from torch import nn\n",
    "from torch.utils.data import Dataset, DataLoader, random_split\n",
    "import numpy as np\n",
    "import scipy.sparse as sp\n",
    "from torchvision import transforms as tfs\n",
    "from torch_geometric.data import HeteroData\n",
    "import torch_geometric.transforms as T\n",
    "from torch_geometric.nn import HGTConv, Linear\n",
    "#from torch_geometric.loader import HGTLoader\n",
    "from torch.cuda.amp import autocast\n",
    "from torch_geometric.utils import negative_sampling\n",
    "from sklearn.metrics import roc_auc_score\n",
    "from sklearn.metrics import roc_curve, auc, f1_score, precision_recall_curve, average_precision_score\n",
    "from torchsummary import summary\n",
    "import random\n",
    "from torch_geometric.nn import RGCNConv\n",
    "import copy\n",
    "\n",
    "def set_seed(seed):\n",
    "    random.seed(seed)\n",
    "    np.random.seed(seed)\n",
    "    torch.manual_seed(seed)\n",
    "    torch.cuda.manual_seed(seed)\n",
    "    torch.cuda.manual_seed_all(seed)\n",
    "\n",
    "set_seed(2022)\n",
    "\n",
    "\n",
    "# class RGCN(nn.Module):\n",
    "#     def __init__(self, in_channels, hidden_channels, out_channels,num_relations,node_types,init_sizes,num_nodes):\n",
    "#         super(RGCN, self).__init__()\n",
    "#         self.num_nodes=num_nodes\n",
    "#         self.conv1 = RGCNConv(in_channels, hidden_channels,num_relations, num_bases=10)\n",
    "#         self.conv2 = RGCNConv(hidden_channels, out_channels,num_relations, num_bases=10)\n",
    "#         self.lins = torch.nn.ModuleList()\n",
    "#         for i in range(len(node_types)):\n",
    "#             lin = nn.Linear(init_sizes[i], in_channels)\n",
    "#             self.lins.append(lin)\n",
    "# #         self.relu = nn.relu\n",
    "# #         self.lin1 = Linear(out_channels, out_channels)\n",
    "# #         self.lin2 = Linear(out_channels, out_channels)\n",
    "# #         self.dropout = dropout   \n",
    "#     def trans_dimensions(self, g):\n",
    "#         data = copy.deepcopy(g)\n",
    "#         for node_type, lin in zip(node_types, self.lins):\n",
    "#             data[node_type].sim = lin(data[node_type].sim)\n",
    "#         return data\n",
    "    \n",
    "#     def forward(self, data):\n",
    "#         data = self.trans_dimensions(data)\n",
    "#         homogeneous_data = data.to_homogeneous()\n",
    "#         print(homogeneous_data)\n",
    "#         edge_index, edge_type = homogeneous_data.edge_index, homogeneous_data.edge_type\n",
    "#         x = self.conv1(homogeneous_data.sim, edge_index, edge_type)\n",
    "#         x = self.conv2(x, edge_index, edge_type)\n",
    "#         xm = x[:self.num_nodes]\n",
    "#         xg = x[self.num_nodes:]\n",
    "# #         xm = self.relu(self.lin1(xm))\n",
    "# #         xg = self.relu(self.lin1(xg))\n",
    "#         return xm,xg\n",
    "class HGT(torch.nn.Module):\n",
    "    def __init__(self, hidden_channels, out_channels, num_heads, num_layers,node_types,metadata):\n",
    "        super().__init__()\n",
    "        self.lin_dict = torch.nn.ModuleDict()\n",
    "        for node_type in node_types:\n",
    "            self.lin_dict[node_type] = Linear(-1, hidden_channels[0])\n",
    "        self.convs = torch.nn.ModuleList()\n",
    "        for i in range(num_layers):\n",
    "            conv = HGTConv(hidden_channels[i], hidden_channels[i+1], metadata,num_heads, group='sum')\n",
    "            self.convs.append(conv)\n",
    "        # self.lin1 = Linear(hidden_channels[-1], out_channels)\n",
    "        # self.lin2 = Linear(hidden_channels[-1], out_channels)\n",
    "        # self.relu = nn.GELU()\n",
    "    def forward(self, x_dict, edge_index_dict):\n",
    "        for node_type, x in x_dict.items():\n",
    "            x_dict[node_type] = self.lin_dict[node_type](x).relu_()\n",
    "        for conv in self.convs:\n",
    "            x_dict = conv(x_dict, edge_index_dict)\n",
    "        # xm=self.relu(self.lin1(x_dict['miRNA']))\n",
    "        # xg=self.relu(self.lin2(x_dict['gene']))\n",
    "        xm=x_dict['miRNA']\n",
    "        xg=x_dict['gene']\n",
    "        return (xm,xg)\n",
    "\n",
    "class BiLSTM(nn.Module):\n",
    "\n",
    "    def __init__(self, input_size, hidden_size, num_layers, output_size,dropout_rate):\n",
    "        super(BiLSTM, self).__init__()\n",
    "        self.rnn = nn.LSTM(input_size, hidden_size, num_layers,bidirectional=True, batch_first=True)\n",
    "        #insize=64*hidden_size * 2\n",
    "        self.linear = nn.Linear(64*hidden_size * 2, output_size)\n",
    "        self.relu = nn.ReLU()\n",
    "        self.dropout = nn.Dropout(p=dropout_rate if dropout_rate is not None else 0)\n",
    "\n",
    "    def forward(self, input):\n",
    "        \"\"\"\n",
    "        input : visual feature [batch_size x T x input_size]\n",
    "        output : contextual feature [batch_size x T x output_size]\n",
    "        \"\"\"\n",
    "        #self.rnn.flatten_parameters()\n",
    "        output,(_,_) = self.rnn(input)  # batch_size x T x input_size -> batch_size x T x (2*hidden_size)\n",
    "        #print(output.size())\n",
    "        output = output.reshape(len(output), -1)\n",
    "        #print(output.size())\n",
    "        output = self.dropout(output)\n",
    "        output = self.linear(output)  # batch_size x T x output_size\n",
    "        #print(output.size())\n",
    "        return output\n",
    "    \n",
    "class MLPBilPredictor(torch.nn.Module):\n",
    "    def __init__(self, in_channels, hidden_channels, num_layers, dropout_rate=0.3):\n",
    "        super(MLPBilPredictor, self).__init__()\n",
    "        self.lins = torch.nn.ModuleList()\n",
    "        self.lins.append(torch.nn.Linear(in_channels, hidden_channels))\n",
    "        for _ in range(num_layers - 1):\n",
    "            self.lins.append(torch.nn.Linear(hidden_channels, hidden_channels))\n",
    "        self.bilin = torch.nn.Linear(hidden_channels, hidden_channels, bias=False)\n",
    "        self.relu = nn.GELU()\n",
    "\n",
    "    def reset_parameters(self):\n",
    "        for lin in self.lins:\n",
    "            lin.reset_parameters()\n",
    "        self.bilin.reset_parameters()\n",
    "\n",
    "    def forward(self, x_i, x_j):\n",
    "        for lin in self.lins:\n",
    "            x_i, x_j = lin(x_i), lin(x_j)\n",
    "            x_i, x_j = self.relu(x_i), self.relu(x_j)\n",
    "        x = torch.sum(self.bilin(x_i) * x_j, dim=-1)\n",
    "        return x\n",
    "\n",
    "class HGT_BiLSTM(torch.nn.Module):\n",
    "    def __init__(self, hidden_channels, out_channels, num_heads, numhgt_layers,node_types,metadata,\\\n",
    "                 input_size,hidden_size, numcnn_layers,output_size,dropout_rate=0.1):\n",
    "        super(HGT_BiLSTM, self).__init__()\n",
    "        self.hgt=HGT(hidden_channels, out_channels, num_heads, numhgt_layers,node_types,metadata)\n",
    "        self.bilstm=BiLSTM(input_size, hidden_size, numcnn_layers, output_size,dropout_rate)\n",
    "\n",
    "        self.embg = Linear(output_size+out_channels,128,False)\n",
    "        self.pre=MLPBilPredictor(128, 128, 1, 0.3)\n",
    "        #self.relu = nn.GELU()\n",
    "        self.dropout = nn.Dropout(p=dropout_rate if dropout_rate is not None else 0)\n",
    "    def encoder(self,x_dict, edge_index_dict,seqG):\n",
    "        \n",
    "        xm,xg1=self.hgt(x_dict,edge_index_dict)\n",
    "        print(xm.size(),xg1.size())\n",
    "        xg2=self.bilstm(seqG)\n",
    "        print(xg2.size())\n",
    "        xg=self.embg(torch.cat([xg1, xg2], dim=1))\n",
    "        print(xg.size())\n",
    "        xm = self.dropout(xm)\n",
    "        xg = self.dropout(xg)\n",
    "        print(xm.size())\n",
    "        print(xg.size())\n",
    "        return xm,xg\n",
    "    def decoderMLP(self,xm,xg,edge):\n",
    "        xm=xm[edge[0]]\n",
    "        xg=xg[edge[1]]\n",
    "        s=self.pre(xm,xg)\n",
    "        return s\n",
    "    def forward(self,x_dict,edge_index_dict,seqG,label_edge):\n",
    "        xm,xg=self.encoder(x_dict, edge_index_dict,seqG)\n",
    "        s=self.decoderMLP(xm,xg,label_edge)\n",
    "        return s\n",
    "\n",
    "class FocalLoss(nn.Module):\n",
    "    def __init__(self,alpha=0.25,gamma=2.0,reduce='mean'):\n",
    "        super(FocalLoss,self).__init__()\n",
    "        self.alpha = alpha\n",
    "        self.gamma = gamma\n",
    "        self.reduce = reduce\n",
    "    def forward(self,classifications,targets):\n",
    "        # classifcation:[N,K]\n",
    "        # targets: [N,K]的one-hot编码\n",
    "        alpha = self.alpha\n",
    "        gamma = self.gamma\n",
    "        # classifications = classifications.view(-1)  # 不经过sigmoid的classification；\n",
    "        # targets = targets.view(-1)                  # 应该是 one-hot\n",
    "        # ce_loss: 对应公式中 -log(pt),也就是普通的 交叉熵损失；--> 该函数接收未经sigmoid的函数；\n",
    "        ce_loss = F.binary_cross_entropy_with_logits(classifications, targets, reduction=\"none\")\n",
    "        #focal loss\n",
    "        p = torch.sigmoid(classifications)                # 经过sigmoid\n",
    "        p_t = p * targets + (1 - p) * (1 - targets)       #  计算pt\n",
    "        loss = ce_loss * ((1 - p_t) ** gamma)             # -log(pt) * (1-pt) ** ganmma\n",
    "        if alpha >= 0:\n",
    "            # 对应公式中alpha_t控制损失的权重\n",
    "            alpha_t = alpha * targets + (1 - alpha) * (1 - targets) # 和pt求解过程一样\n",
    "            loss = alpha_t * loss                         # 最终focal loss\n",
    "        if self.reduce=='sum':\n",
    "            loss = loss.sum()\n",
    "        elif self.reduce=='mean':\n",
    "            loss = loss.mean()\n",
    "        else:\n",
    "            raise ValueError('reduce type is wrong!')\n",
    "        return loss\n",
    "\n",
    "def trainAll(model,train_data,nodetypes,seqG,lossF):\n",
    "    model.train() \n",
    "    out = model(train_data.sim_dict,train_data.edge_index_dict,seqG,train_data['regulate'].edge_label_index)\n",
    "    out=out.view(-1)\n",
    "    rel=train_data['regulate'].edge_label\n",
    "    #loss = F.binary_cross_entropy_with_logits(out,rel)\n",
    "    loss=lossF(out,rel)\n",
    "    pre=torch.sigmoid(out)\n",
    "    assert torch.isnan(loss).sum() == 0, print(loss)\n",
    "    auc=roc_auc_score(rel.detach().numpy(), pre.detach().numpy())\n",
    "    aupr= average_precision_score(rel.detach().numpy(), pre.detach().numpy())\n",
    "    #     out = model(train_data.x_dict,train_data.edge_index_dict)\n",
    "    #     pre=out[train_data['regulate'].edge_label_index[0],train_data['regulate'].edge_label_index[1]]\n",
    "    #     rel=train_data['regulate'].edge_label\n",
    "    #     loss = F.binary_cross_entropy_with_logits(pre,rel)\n",
    "    #     pre=torch.sigmoid(pre)\n",
    "    #     assert torch.isnan(loss).sum() == 0, print(loss)\n",
    "    #     auc=roc_auc_score(rel.detach().numpy(), pre.detach().numpy())\n",
    "    optimizer.zero_grad()\n",
    "    loss.backward()\n",
    "    optimizer.step()\n",
    "    return (loss.item(),auc,aupr)\n",
    "\n",
    "def evaluateAll(model,dat,nodetypes,seqG,lossF):\n",
    "    model.eval()\n",
    "    valloss=0\n",
    "    valauc=0\n",
    "    with torch.no_grad():\n",
    "        out = model(dat.sim_dict,dat.edge_index_dict,seqG,dat['regulate'].edge_label_index)\n",
    "        out=out.view(-1)\n",
    "        rel=dat['regulate'].edge_label\n",
    "        #loss = F.binary_cross_entropy_with_logits(out,rel)\n",
    "        loss=lossF(out,rel)\n",
    "        pre=torch.sigmoid(out)\n",
    "        #         out = model(dat.x_dict,dat.edge_index_dict)\n",
    "        #         pre=out[dat['regulate'].edge_label_index[0],dat['regulate'].edge_label_index[1]]\n",
    "        #         rel=dat['regulate'].edge_label\n",
    "        #         loss = F.binary_cross_entropy_with_logits(pre,rel)\n",
    "        #         pre=torch.sigmoid(pre)\n",
    "        auc=roc_auc_score(rel.detach().numpy(), pre.detach().numpy())\n",
    "        aupr= average_precision_score(rel.detach().numpy(), pre.detach().numpy())\n",
    "    return (loss.item(),auc,aupr)\n",
    "\n",
    "class EarlyStopping():\n",
    "    def __init__(self, tolerance=50, min_delta=0.1):\n",
    "        self.tolerance = tolerance\n",
    "        self.min_delta = min_delta\n",
    "        self.counter = 0\n",
    "        self.early_stop = False\n",
    "    def __call__(self, val_best_auc, val_auc):\n",
    "        if val_auc<val_best_auc:\n",
    "            self.counter +=1\n",
    "            if self.counter >= self.tolerance:\n",
    "                self.early_stop = True\n",
    "\n",
    "def transfer_model(pretrained_file, model):\n",
    "    pretrained_dict = torch.load(pretrained_file,map_location=torch.device('cpu'))  # get pretrained dict\n",
    "    model_dict = model.state_dict()  # get model dict\n",
    "    pretrained_dict = transfer_state_dict(pretrained_dict, model_dict)\n",
    "    model_dict.update(pretrained_dict)\n",
    "    model.load_state_dict(model_dict)\n",
    "    return model\n",
    "\n",
    "def transfer_state_dict(pretrained_dict, model_dict):\n",
    "    state_dict = {}\n",
    "    for k, v in pretrained_dict.items():\n",
    "        if k in model_dict.keys():\n",
    "            state_dict[k] = v\n",
    "        else:\n",
    "            print(\"Missing key(s) in state_dict :{}\".format(k))\n",
    "    return state_dict\n",
    "\n",
    "if __name__ == '__main__':\n",
    "\n",
    "    with open('/lustre06/project/6050659/liupei89/Testcell/newNetData/pos_neg/newdataCombine00_newall.pkl','rb') as f:  # Python 3: open(..., 'rb')\n",
    "        train_data,val_data,test_data,m,g = pickle.load(f)\n",
    "\n",
    "    train_data ['miRNA'].sim = train_data ['miRNA'].mm + train_data ['miRNA'].x\n",
    "    val_data ['miRNA'].sim = train_data ['miRNA'].mm + train_data ['miRNA'].x\n",
    "    test_data ['miRNA'].sim = train_data ['miRNA'].mm + train_data ['miRNA'].x\n",
    "    train_data ['gene'].sim = train_data ['gene'].gg + train_data ['gene'].x\n",
    "    val_data ['gene'].sim = train_data ['gene'].gg + train_data ['gene'].x\n",
    "    test_data ['gene'].sim = train_data ['gene'].gg + train_data ['gene'].x\n",
    "    nodetypes=train_data.node_types\n",
    "    metadata=train_data.metadata()\n",
    "    \n",
    "    #print(num_nodes)\n",
    "    seqG=np.load('/lustre06/project/6050659/liupei89/Testcell/newNetData/pos_neg/geneseqkmer.npy')\n",
    "    seqG=torch.from_numpy(seqG)\n",
    "    seqG=seqG.float()\n",
    "    #print(seqG.size())\n",
    "    \n",
    "#     model = HGT_BiLSTM(hidden_channels=[1024,256,128], out_channels=128, num_heads=8, numhgt_layers=2,node_types=nodetypes,metadata=metadata,\\\n",
    "#                         input_size=100, hidden_size=64, numcnn_layers=2,output_size=128,dropout_rate=0.1)\n",
    "\n",
    "#     print(model)\n",
    "\n",
    "#     for m in model.modules():\n",
    "#         if isinstance(m, (torch.nn.Linear, torch.nn.Conv1d, torch.nn.Conv2d)):\n",
    "#             torch.nn.init.xavier_normal_(m.weight)\n",
    "#     #weight_decay=5e-4\n",
    "#     optimizer = torch.optim.AdamW(model.parameters(), lr=0.001, weight_decay=5e-3)\n",
    "#     #0.1 0.05 0.01 0.005 0.0001\n",
    "#     #scheduler = torch.optim.lr_scheduler.ReduceLROnPlateau(optimizer, \"min\", 0.1, 5)\n",
    "#     #scheduler = torch.optim.lr_scheduler.CosineAnnealingLR(optimizer, 100, eta_min=5e-4)\n",
    "#     lossF=FocalLoss(alpha=0.65, gamma=2,reduce='mean')\n",
    "#     #lossF=FocalLoss(alpha=-1, gamma=0.2,reduce='mean')\n",
    "#     #lossF=BCEFocalLoss(gamma=1, alpha=0.75, reduction='elementwise_mean')\n",
    "#     early_stopping = EarlyStopping(tolerance=20, min_delta=0.15)\n",
    "\n",
    "#     import time\n",
    "#     best_val_auc= best_val_aupr= 0\n",
    "#     trainloss=[]\n",
    "#     valloss=[]\n",
    "#     valauc=[]\n",
    "#     trainauc=[]\n",
    "#     valaupr=[]\n",
    "#     trainaupr=[]\n",
    "#     lrchange=[]\n",
    "#     for epoch in range(1, 501):\n",
    "#         since = time.time()\n",
    "#         print('{} optim: {}'.format(epoch, optimizer.param_groups[0]['lr']))\n",
    "#         lrchange.append(optimizer.param_groups[0]['lr'])\n",
    "#         train_loss,train_auc,train_aupr = trainAll(model,train_data,nodetypes,seqG,lossF)\n",
    "#         trainloss.append(train_loss)\n",
    "#         print('train_loss:',train_loss)\n",
    "#         #time_elapsed = time.time() - since\n",
    "#         #print('Training in {:.0f}m {:.0f}s'.format(time_elapsed // 60, time_elapsed % 60))\n",
    "#         #since1 = time.time()\n",
    "#         val_loss,val_auc,val_aupr = evaluateAll(model,val_data,nodetypes,seqG,lossF)\n",
    "#         valauc.append(val_auc)\n",
    "#         valloss.append(val_loss)\n",
    "#         trainauc.append(train_auc)\n",
    "#         valaupr.append(val_aupr)\n",
    "#         trainaupr.append(train_aupr)\n",
    "#         #time_elapsed = time.time() - since1\n",
    "#         #print('Val and Testing in {:.0f}m {:.0f}s'.format(time_elapsed // 60, time_elapsed % 60))\n",
    "#         if val_aupr > best_val_aupr:\n",
    "#             best_val_auc = val_auc\n",
    "#             best_val_aupr=val_aupr\n",
    "#             torch.save(model, 'hgt_BiLSTMbest.pt')\n",
    "#         #    test_auc= tmp_test_auc\n",
    "#         #scheduler.step()\n",
    "#         time_elapsed = time.time() - since\n",
    "#         log = 'Epoch: {:03d}, Epoch complete in {:.0f}m {:.0f}s, trainLoss: {:.4f}, Valloss: {:.4f}, Trainauc: {:.4f}, Valauc: {:.4f}, Valbestauc: {:.4f},Trainaupr: {:.4f}, Valaupr: {:.4f}, Valbestaupr: {:.4f}'\n",
    "#         print(log.format(epoch, time_elapsed // 60, time_elapsed % 60,train_loss, val_loss,train_auc,val_auc,best_val_auc,train_aupr,val_aupr,best_val_aupr))\n",
    "\n",
    "\n",
    "#         # early_stopping(train_auc, val_auc)\n",
    "#         # if early_stopping.early_stop:\n",
    "#         #     print(\"We are at epoch:\", epoch)\n",
    "#         #     break\n",
    "\n",
    "#     with open('hgt_BiLSTMResult.pkl', 'wb') as f:  # Python 3: open(..., 'wb')\n",
    "#         pickle.dump([trainloss, trainauc,trainaupr,valloss,valauc,valaupr,lrchange], f)\n",
    "\n",
    "#     torch.save(model, 'hgt_BiLSTM.pt')"
   ]
  },
  {
   "cell_type": "code",
   "execution_count": 2,
   "id": "66e389fa",
   "metadata": {},
   "outputs": [],
   "source": [
    "import matplotlib.pyplot as plt"
   ]
  },
  {
   "cell_type": "code",
   "execution_count": 3,
   "id": "1a83f280",
   "metadata": {},
   "outputs": [],
   "source": [
    "### data 00\n",
    "#/home/liupei89/shfolder/new/HGT/5/0.001_2_0.35_5e-3_1000\n",
    "#HGT = torch.load(\"/home/liupei89/shfolder/new/HGT/6/128/HGTbest.pt\")\n",
    "#Her = torch.load(\"/home/liupei89/shfolder/Herbest.pt\")\n",
    "model= torch.load(\"/home/liupei89/shfolder/new/HGT_BiLSTM/hgt_BiLSTMbest.pt\")"
   ]
  },
  {
   "cell_type": "code",
   "execution_count": 4,
   "id": "a366fbe4",
   "metadata": {},
   "outputs": [
    {
     "data": {
      "text/plain": [
       "HGT_BiLSTM(\n",
       "  (hgt): HGT(\n",
       "    (lin_dict): ModuleDict(\n",
       "      (miRNA): Linear(279, 1024, bias=True)\n",
       "      (gene): Linear(14676, 1024, bias=True)\n",
       "    )\n",
       "    (convs): ModuleList(\n",
       "      (0): HGTConv(-1, 256, heads=8)\n",
       "      (1): HGTConv(-1, 128, heads=8)\n",
       "    )\n",
       "  )\n",
       "  (bilstm): BiLSTM(\n",
       "    (rnn): LSTM(100, 64, num_layers=2, batch_first=True, bidirectional=True)\n",
       "    (linear): Linear(in_features=8192, out_features=128, bias=True)\n",
       "    (relu): ReLU()\n",
       "    (dropout): Dropout(p=0.1, inplace=False)\n",
       "  )\n",
       "  (embg): Linear(256, 128, bias=False)\n",
       "  (pre): MLPBilPredictor(\n",
       "    (lins): ModuleList(\n",
       "      (0): Linear(in_features=128, out_features=128, bias=True)\n",
       "    )\n",
       "    (bilin): Linear(in_features=128, out_features=128, bias=False)\n",
       "    (relu): GELU()\n",
       "  )\n",
       "  (dropout): Dropout(p=0.1, inplace=False)\n",
       ")"
      ]
     },
     "execution_count": 4,
     "metadata": {},
     "output_type": "execute_result"
    }
   ],
   "source": [
    "model"
   ]
  },
  {
   "cell_type": "code",
   "execution_count": 5,
   "id": "35fd92ad",
   "metadata": {},
   "outputs": [],
   "source": [
    "from sklearn.metrics import roc_curve, auc, f1_score, precision_recall_curve, average_precision_score\n",
    "from sklearn.metrics import accuracy_score, precision_score, recall_score, f1_score, classification_report, confusion_matrix"
   ]
  },
  {
   "cell_type": "code",
   "execution_count": 6,
   "id": "50e417d5",
   "metadata": {},
   "outputs": [
    {
     "name": "stdout",
     "output_type": "stream",
     "text": [
      "torch.Size([279, 128]) torch.Size([14676, 128])\n",
      "torch.Size([14676, 128])\n",
      "torch.Size([14676, 128])\n",
      "torch.Size([279, 128])\n",
      "torch.Size([14676, 128])\n"
     ]
    }
   ],
   "source": [
    "model.eval()\n",
    "valloss=0\n",
    "valauc=0\n",
    "with torch.no_grad():\n",
    "    out = model(test_data.sim_dict,test_data.edge_index_dict,seqG,test_data['regulate'].edge_label_index)\n",
    "    out=out.view(-1)\n",
    "    rel=test_data['regulate'].edge_label\n",
    "    #loss = F.binary_cross_entropy_with_logits(out,rel)\n",
    "    #loss=lossF(out,rel)\n",
    "    pre=torch.sigmoid(out)\n",
    "    #         out = model(dat.x_dict,dat.edge_index_dict)\n",
    "    #         pre=out[dat['regulate'].edge_label_index[0],dat['regulate'].edge_label_index[1]]\n",
    "    #         rel=dat['regulate'].edge_label\n",
    "    #         loss = F.binary_cross_entropy_with_logits(pre,rel)\n",
    "    #         pre=torch.sigmoid(pre)\n",
    "    auc=roc_auc_score(rel.detach().numpy(), pre.detach().numpy())\n",
    "    aupr= average_precision_score(rel.detach().numpy(), pre.detach().numpy())"
   ]
  },
  {
   "cell_type": "code",
   "execution_count": 7,
   "id": "f88c3ac1",
   "metadata": {},
   "outputs": [
    {
     "name": "stdout",
     "output_type": "stream",
     "text": [
      "0.8366966761967201 0.7399943690790847\n"
     ]
    }
   ],
   "source": [
    "print(auc,aupr)"
   ]
  },
  {
   "cell_type": "code",
   "execution_count": 8,
   "id": "59147a30",
   "metadata": {},
   "outputs": [
    {
     "data": {
      "text/plain": [
       "torch.Size([2223])"
      ]
     },
     "execution_count": 8,
     "metadata": {},
     "output_type": "execute_result"
    }
   ],
   "source": [
    "rel[rel==1].size()"
   ]
  },
  {
   "cell_type": "code",
   "execution_count": 9,
   "id": "018377a8",
   "metadata": {},
   "outputs": [
    {
     "name": "stdout",
     "output_type": "stream",
     "text": [
      "torch.Size([2223])\n",
      "torch.Size([5990])\n",
      "torch.Size([2294])\n",
      "torch.Size([5919])\n"
     ]
    }
   ],
   "source": [
    "#rel[rel==1].size()\n",
    "allrelpos=torch.nonzero(rel==1).squeeze()\n",
    "print(allrelpos.size())\n",
    "allrelneg=torch.nonzero(rel==0).squeeze()\n",
    "print(allrelneg.size())\n",
    "\n",
    "allprepos=torch.nonzero(pre>=0.5).squeeze()##从0开始\n",
    "print(allprepos.size())\n",
    "allpreneg=torch.nonzero(pre<0.5).squeeze()##从0开始\n",
    "print(allpreneg.size())"
   ]
  },
  {
   "cell_type": "code",
   "execution_count": 10,
   "id": "136d538a",
   "metadata": {},
   "outputs": [
    {
     "name": "stdout",
     "output_type": "stream",
     "text": [
      "torch.Size([1474])\n",
      "torch.Size([820])\n",
      "torch.Size([5170])\n",
      "torch.Size([749])\n"
     ]
    }
   ],
   "source": [
    "a=set(allprepos.numpy())\n",
    "b=set(allrelpos.numpy())\n",
    "c=torch.tensor(list(a&b))\n",
    "tp=c\n",
    "print(tp.size())#1545\n",
    "\n",
    "a=set(allprepos.numpy())\n",
    "b=set(allrelneg.numpy())\n",
    "c=torch.tensor(list(a&b))\n",
    "fp=c\n",
    "print(fp.size())#779\n",
    "\n",
    "a=set(allpreneg.numpy())\n",
    "b=set(allrelneg.numpy())\n",
    "c=torch.tensor(list(a&b))\n",
    "tn=c\n",
    "print(tn.size())#5211\n",
    "\n",
    "a=set(allpreneg.numpy())\n",
    "b=set(allrelpos.numpy())\n",
    "c=torch.tensor(list(a&b))\n",
    "fn=c\n",
    "print(fn.size())#678"
   ]
  },
  {
   "cell_type": "code",
   "execution_count": 11,
   "id": "97f86a17",
   "metadata": {},
   "outputs": [
    {
     "data": {
      "text/plain": [
       "2223"
      ]
     },
     "execution_count": 11,
     "metadata": {},
     "output_type": "execute_result"
    }
   ],
   "source": [
    "tp.size(0)+fn.size(0)"
   ]
  },
  {
   "cell_type": "code",
   "execution_count": 12,
   "id": "8cf4bcd6",
   "metadata": {},
   "outputs": [
    {
     "name": "stdout",
     "output_type": "stream",
     "text": [
      "0.663067926225821\n"
     ]
    }
   ],
   "source": [
    "recall=tp.size(0)/(tp.size(0)+fn.size(0))\n",
    "print(recall)"
   ]
  },
  {
   "cell_type": "code",
   "execution_count": 13,
   "id": "89ac042b",
   "metadata": {},
   "outputs": [
    {
     "name": "stdout",
     "output_type": "stream",
     "text": [
      "0.6425457715780296\n"
     ]
    }
   ],
   "source": [
    "precision=tp.size(0)/(tp.size(0)+fp.size(0))\n",
    "print(precision)"
   ]
  },
  {
   "cell_type": "code",
   "execution_count": 14,
   "id": "e68f747e",
   "metadata": {},
   "outputs": [
    {
     "name": "stdout",
     "output_type": "stream",
     "text": [
      "0.6526455612131946\n"
     ]
    }
   ],
   "source": [
    "f1 = 2 * precision * recall / (precision + recall)\n",
    "print(f1)"
   ]
  },
  {
   "cell_type": "code",
   "execution_count": 15,
   "id": "67aef639",
   "metadata": {},
   "outputs": [],
   "source": [
    "with open('HGT_BiLSTM_result.pkl', 'wb') as f:  # Python 3: open(..., 'wb')\n",
    "    pickle.dump([tp,fp,tn,fn,rel,pre], f)"
   ]
  },
  {
   "cell_type": "code",
   "execution_count": 16,
   "id": "fb85b9a5",
   "metadata": {},
   "outputs": [
    {
     "data": {
      "text/plain": [
       "tensor([1.9808e-01, 4.8261e-01, 3.5790e-01,  ..., 6.1942e-04, 5.4769e-02,\n",
       "        6.4573e-01])"
      ]
     },
     "execution_count": 16,
     "metadata": {},
     "output_type": "execute_result"
    }
   ],
   "source": [
    "pre"
   ]
  },
  {
   "cell_type": "code",
   "execution_count": 17,
   "id": "af58f6dd",
   "metadata": {},
   "outputs": [
    {
     "data": {
      "text/plain": [
       "tensor([1., 1., 1.,  ..., 0., 0., 0.])"
      ]
     },
     "execution_count": 17,
     "metadata": {},
     "output_type": "execute_result"
    }
   ],
   "source": [
    "rel"
   ]
  },
  {
   "cell_type": "code",
   "execution_count": 43,
   "id": "bf8ec265",
   "metadata": {},
   "outputs": [],
   "source": [
    "# HGT.eval()\n",
    "# valloss=0\n",
    "# valauc=0\n",
    "# with torch.no_grad():\n",
    "#     out = HGT(train_data.sim_dict,train_data.edge_index_dict,train_data['regulate'].edge_label_index)\n",
    "#     out=out.view(-1)\n",
    "#     rel=train_data['regulate'].edge_label\n",
    "#     #loss = F.binary_cross_entropy_with_logits(out,rel)\n",
    "#     pre=torch.sigmoid(out) \n",
    "\n",
    "#     auc=roc_auc_score(rel.detach().numpy(), pre.detach().numpy())"
   ]
  },
  {
   "cell_type": "code",
   "execution_count": 7,
   "id": "179f63dc",
   "metadata": {},
   "outputs": [
    {
     "data": {
      "text/plain": [
       "tensor(1.)"
      ]
     },
     "execution_count": 7,
     "metadata": {},
     "output_type": "execute_result"
    }
   ],
   "source": [
    "# max(pre)"
   ]
  },
  {
   "cell_type": "code",
   "execution_count": 18,
   "id": "e2c47278",
   "metadata": {},
   "outputs": [],
   "source": [
    "with open('HGT_BiLSTM_result.pkl','rb') as f:  # Python 3: open(..., 'rb')\n",
    "        _,_,_,_,rel,pre = pickle.load(f)"
   ]
  },
  {
   "cell_type": "code",
   "execution_count": 19,
   "id": "5102c8af",
   "metadata": {},
   "outputs": [],
   "source": [
    "from sklearn.metrics import roc_curve, auc, f1_score, precision_recall_curve, average_precision_score\n",
    "from sklearn.metrics import accuracy_score, precision_score, recall_score, f1_score, classification_report, confusion_matrix"
   ]
  },
  {
   "cell_type": "code",
   "execution_count": 20,
   "id": "cc0a0392",
   "metadata": {},
   "outputs": [
    {
     "data": {
      "text/plain": [
       "0.8366966761967201"
      ]
     },
     "execution_count": 20,
     "metadata": {},
     "output_type": "execute_result"
    }
   ],
   "source": [
    "fpr, tpr, thresholds = roc_curve(rel.numpy(), pre.numpy(), pos_label=1)\n",
    "testauc=auc(fpr,tpr)\n",
    "testauc"
   ]
  },
  {
   "cell_type": "code",
   "execution_count": 21,
   "id": "731c3aed",
   "metadata": {},
   "outputs": [
    {
     "data": {
      "text/plain": [
       "0.7399943690790847"
      ]
     },
     "execution_count": 21,
     "metadata": {},
     "output_type": "execute_result"
    }
   ],
   "source": [
    "precision, recall, _ = precision_recall_curve(rel.numpy(), pre.numpy(),pos_label=1)\n",
    "testaupr= average_precision_score(rel.numpy(), pre.numpy())\n",
    "testaupr #0.8026"
   ]
  },
  {
   "cell_type": "code",
   "execution_count": 22,
   "id": "1aad8d9d",
   "metadata": {},
   "outputs": [
    {
     "data": {
      "text/plain": [
       "<matplotlib.legend.Legend at 0x149c5f7fd6a0>"
      ]
     },
     "execution_count": 22,
     "metadata": {},
     "output_type": "execute_result"
    },
    {
     "data": {
      "image/png": "[encoded data removed]",
      "text/plain": [
       "<Figure size 432x288 with 1 Axes>"
      ]
     },
     "metadata": {
      "needs_background": "light"
     },
     "output_type": "display_data"
    }
   ],
   "source": [
    "plt.figure()\n",
    "plt.step(fpr, tpr,color='navy',linewidth=2,label='AUC = {0:.4f})'.format(testauc))\n",
    "#plt.plot([0, 0], [1, 1], color='navy',linestyle='--')\n",
    "plt.xlim([0.0, 1.0])\n",
    "plt.ylim([0.0, 1.05])\n",
    "plt.xlabel('False Positive Rate')\n",
    "plt.ylabel('True Positive Rate')\n",
    "plt.title('ROC curve')\n",
    "plt.legend(loc=4)\n",
    "#plt.savefig(\"auc_curve.jpg\")"
   ]
  },
  {
   "cell_type": "code",
   "execution_count": 23,
   "id": "5d946aaf",
   "metadata": {
    "scrolled": true
   },
   "outputs": [
    {
     "data": {
      "text/plain": [
       "<matplotlib.legend.Legend at 0x149c5f6ac310>"
      ]
     },
     "execution_count": 23,
     "metadata": {},
     "output_type": "execute_result"
    },
    {
     "data": {
      "image/png": "[encoded data removed]",
      "text/plain": [
       "<Figure size 432x288 with 1 Axes>"
      ]
     },
     "metadata": {
      "needs_background": "light"
     },
     "output_type": "display_data"
    }
   ],
   "source": [
    "plt.figure()\n",
    "plt.step(recall,precision,color='navy',linewidth=2,label='AUPR = {0:.4f})'.format(testaupr))\n",
    "plt.xlabel('Recall')\n",
    "plt.ylabel('Precision')\n",
    "plt.ylim([0.0, 1.05])\n",
    "plt.xlim([0.0, 1.0])\n",
    "plt.title('PR Curve')\n",
    "plt.legend(loc=4)\n",
    "#plt.savefig(\"pr_curve.jpg\")"
   ]
  },
  {
   "cell_type": "code",
   "execution_count": 29,
   "id": "f1a4fdd8",
   "metadata": {},
   "outputs": [],
   "source": [
    "from sklearn.metrics import accuracy_score, precision_score, recall_score, f1_score, classification_report, confusion_matrix"
   ]
  },
  {
   "cell_type": "code",
   "execution_count": 30,
   "id": "54c5d885",
   "metadata": {},
   "outputs": [
    {
     "data": {
      "text/plain": [
       "8213"
      ]
     },
     "execution_count": 30,
     "metadata": {},
     "output_type": "execute_result"
    }
   ],
   "source": [
    "t1=rel.numpy()\n",
    "len(t1)"
   ]
  },
  {
   "cell_type": "code",
   "execution_count": 31,
   "id": "bcff4a08",
   "metadata": {},
   "outputs": [
    {
     "data": {
      "text/plain": [
       "2223"
      ]
     },
     "execution_count": 31,
     "metadata": {},
     "output_type": "execute_result"
    }
   ],
   "source": [
    "len(t1[t1==1])#17998 111777 17998 48516 2223"
   ]
  },
  {
   "cell_type": "code",
   "execution_count": 32,
   "id": "1cad3058",
   "metadata": {},
   "outputs": [
    {
     "data": {
      "text/plain": [
       "0.27058965029918514"
      ]
     },
     "execution_count": 32,
     "metadata": {},
     "output_type": "execute_result"
    }
   ],
   "source": [
    "17998/(17998+48516)"
   ]
  },
  {
   "cell_type": "code",
   "execution_count": 33,
   "id": "f79d1cba",
   "metadata": {},
   "outputs": [
    {
     "data": {
      "text/plain": [
       "2035"
      ]
     },
     "execution_count": 33,
     "metadata": {},
     "output_type": "execute_result"
    }
   ],
   "source": [
    "s1=pre.numpy()\n",
    "s1[s1>=0.5]=1\n",
    "s1[s1<0.5]=0\n",
    "len(s1[s1==1])# 1334"
   ]
  },
  {
   "cell_type": "code",
   "execution_count": 34,
   "id": "5a774b28",
   "metadata": {},
   "outputs": [
    {
     "data": {
      "text/plain": [
       "array([[5448,  542],\n",
       "       [ 730, 1493]])"
      ]
     },
     "execution_count": 34,
     "metadata": {},
     "output_type": "execute_result"
    }
   ],
   "source": [
    "mat = confusion_matrix(t1, s1)\n",
    "mat"
   ]
  },
  {
   "cell_type": "code",
   "execution_count": 35,
   "id": "98b64a92",
   "metadata": {},
   "outputs": [],
   "source": [
    "def get_p_r_f1_from_conf_matrix(conf_matrix):\n",
    "    TP,FP,FN,TN = 0,0,0,0\n",
    "    labels = [1]\n",
    "    nums = len(labels)\n",
    "    for i in labels:\n",
    "        TP += conf_matrix[i, i]\n",
    "        FP += (conf_matrix[:i, i].sum() + conf_matrix[i+1:, i].sum())\n",
    "        FN += (conf_matrix[i, i+1:].sum() + conf_matrix[i, :i].sum())\n",
    "    print(TP, FP, FN)\n",
    "    precision = TP / (TP + FP)\n",
    "    recall = TP / (TP + FN)\n",
    "    f1 = 2 * precision * recall / (precision + recall)\n",
    "    return precision, recall, f1\n",
    "\n",
    "def get_acc_p_r_f1(trues, preds):\n",
    "    labels = [1]\n",
    "    TP,FP,FN,TN = 0,0,0,0\n",
    "    for label in labels:\n",
    "        preds_tmp = np.array([1 if pred == label else 0 for pred in preds])\n",
    "        trues_tmp = np.array([1 if true == label else 0 for true in trues])\n",
    "        # print(preds_tmp, trues_tmp)\n",
    "        # print()\n",
    "        # TP预测为1真实为1\n",
    "        # TN预测为0真实为0\n",
    "        # FN预测为0真实为1\n",
    "        # FP预测为1真实为0\n",
    "        TP += ((preds_tmp == 1) & (trues_tmp == 1)).sum()\n",
    "        TN += ((preds_tmp == 0) & (trues_tmp == 0)).sum()\n",
    "        FN += ((preds_tmp == 0) & (trues_tmp == 1)).sum()\n",
    "        FP += ((preds_tmp == 1) & (trues_tmp == 0)).sum()\n",
    "    print(TP, FP, FN,TN)\n",
    "    precision = TP / (TP + FP)\n",
    "    recall = TP / (TP + FN)\n",
    "    f1 = 2 * precision * recall / (precision + recall)\n",
    "    return precision, recall, f1"
   ]
  },
  {
   "cell_type": "code",
   "execution_count": 36,
   "id": "5ab5ed85",
   "metadata": {},
   "outputs": [
    {
     "name": "stdout",
     "output_type": "stream",
     "text": [
      "1493 542 730\n",
      "0.7336609336609337 0.6716149347728295 0.701268201033349\n",
      "1493 542 730 5448\n",
      "0.7336609336609337 0.6716149347728295 0.701268201033349\n"
     ]
    }
   ],
   "source": [
    "precision, recall, f1=get_p_r_f1_from_conf_matrix(mat)\n",
    "print(precision, recall, f1)\n",
    "\n",
    "precision, recall, f1=get_acc_p_r_f1(t1, s1)\n",
    "print(precision, recall, f1)"
   ]
  },
  {
   "cell_type": "code",
   "execution_count": 37,
   "id": "67c416f0",
   "metadata": {},
   "outputs": [
    {
     "name": "stdout",
     "output_type": "stream",
     "text": [
      "0.7336609336609337\n",
      "0.6716149347728295\n",
      "0.701268201033349\n"
     ]
    }
   ],
   "source": [
    "precision = precision_score(t1, s1,pos_label=1)\n",
    "print(precision)#0.96924\n",
    "recall = recall_score(t1, s1,pos_label=1)\n",
    "print(recall)\n",
    "f1 = f1_score(t1, s1,pos_label=1)\n",
    "print(f1)"
   ]
  },
  {
   "cell_type": "code",
   "execution_count": 24,
   "id": "8aeab956",
   "metadata": {},
   "outputs": [],
   "source": [
    "#data 00\n",
    "#/home/liupei89/shfolder/new/HGT/5/0.001_2_0.35_5e-3_1000\n",
    "#/home/liupei89/shfolder/new/HGT/5\n",
    "with open('/home/liupei89/shfolder/new/HGT_BiLSTM/hgt_BiLSTMResult.pkl','rb') as f:  # Python 3: open(..., 'rb')\n",
    "       trainloss, trainauc,trainaupr,valloss,valauc,valaupr,lrchange = pickle.load(f)"
   ]
  },
  {
   "cell_type": "code",
   "execution_count": 25,
   "id": "d5fdeef0",
   "metadata": {},
   "outputs": [
    {
     "data": {
      "text/plain": [
       "<matplotlib.legend.Legend at 0x149c5f68c6a0>"
      ]
     },
     "execution_count": 25,
     "metadata": {},
     "output_type": "execute_result"
    },
    {
     "data": {
      "image/png": "[encoded data removed]",
      "text/plain": [
       "<Figure size 432x288 with 1 Axes>"
      ]
     },
     "metadata": {
      "needs_background": "light"
     },
     "output_type": "display_data"
    }
   ],
   "source": [
    "#plt.plot(trainloss)\n",
    "plt.figure()\n",
    "plt.plot(trainloss,label='trainloss')\n",
    "plt.plot(valloss,label='valloss')\n",
    "plt.plot(trainauc,label='trainauc')\n",
    "plt.plot(valauc,label='valauc')\n",
    "plt.plot(trainaupr,label='trainaupr')\n",
    "plt.plot(valaupr,label='valaupr')\n",
    "plt.xlabel('Epoch')\n",
    "plt.ylabel('Loss')\n",
    "plt.title('The Loss Trendency of HGT')\n",
    "plt.legend(loc=1)"
   ]
  },
  {
   "cell_type": "code",
   "execution_count": 26,
   "id": "e5a56f86",
   "metadata": {},
   "outputs": [
    {
     "data": {
      "text/plain": [
       "<matplotlib.legend.Legend at 0x149c5f5c5bb0>"
      ]
     },
     "execution_count": 26,
     "metadata": {},
     "output_type": "execute_result"
    },
    {
     "data": {
      "image/png": "[encoded data removed]",
      "text/plain": [
       "<Figure size 432x288 with 1 Axes>"
      ]
     },
     "metadata": {
      "needs_background": "light"
     },
     "output_type": "display_data"
    }
   ],
   "source": [
    "#plt.plot(trainloss)\n",
    "plt.figure()\n",
    "plt.plot(trainloss,label='trainloss',color='navy')\n",
    "plt.plot(valloss,label='valloss')\n",
    "plt.xlabel('Epoch')\n",
    "plt.ylabel('Loss')\n",
    "plt.title('The Loss Trendency of HGT')\n",
    "plt.legend(loc=1)"
   ]
  },
  {
   "cell_type": "code",
   "execution_count": 27,
   "id": "deec92d9",
   "metadata": {},
   "outputs": [
    {
     "data": {
      "text/plain": [
       "<matplotlib.legend.Legend at 0x149c5f560850>"
      ]
     },
     "execution_count": 27,
     "metadata": {},
     "output_type": "execute_result"
    },
    {
     "data": {
      "image/png": "[encoded data removed]",
      "text/plain": [
       "<Figure size 432x288 with 1 Axes>"
      ]
     },
     "metadata": {
      "needs_background": "light"
     },
     "output_type": "display_data"
    }
   ],
   "source": [
    "#plt.plot(trainloss)\n",
    "plt.figure()\n",
    "plt.plot(trainauc,label='trainauc',color='navy')\n",
    "plt.plot(valauc,label='valauc')\n",
    "plt.plot(trainaupr,label='trainaupr')\n",
    "plt.plot(valaupr,label='valaupr')\n",
    "plt.xlabel('Epoch')\n",
    "plt.ylabel('AUC')\n",
    "plt.title('The AUC Trendency of HGT')\n",
    "plt.legend(loc=4)"
   ]
  },
  {
   "cell_type": "code",
   "execution_count": 28,
   "id": "62a27995",
   "metadata": {},
   "outputs": [
    {
     "data": {
      "text/plain": [
       "<matplotlib.legend.Legend at 0x149c5f4c0430>"
      ]
     },
     "execution_count": 28,
     "metadata": {},
     "output_type": "execute_result"
    },
    {
     "data": {
      "image/png": "[encoded data removed]",
      "text/plain": [
       "<Figure size 432x288 with 1 Axes>"
      ]
     },
     "metadata": {
      "needs_background": "light"
     },
     "output_type": "display_data"
    }
   ],
   "source": [
    "#plt.plot(trainloss)\n",
    "plt.figure()\n",
    "plt.plot(trainaupr,label='trainaupr')\n",
    "plt.plot(valaupr,label='valaupr')\n",
    "plt.xlabel('Epoch')\n",
    "plt.ylabel('AUPR')\n",
    "#plt.ylim([0.5, 0.71])\n",
    "plt.title('The AUPR Trendency of HGT')\n",
    "plt.legend(loc=4)"
   ]
  },
  {
   "cell_type": "code",
   "execution_count": 29,
   "id": "2dc35f5a",
   "metadata": {},
   "outputs": [
    {
     "data": {
      "text/plain": [
       "<matplotlib.legend.Legend at 0x149c5f42f580>"
      ]
     },
     "execution_count": 29,
     "metadata": {},
     "output_type": "execute_result"
    },
    {
     "data": {
      "image/png": "[encoded data removed]",
      "text/plain": [
       "<Figure size 432x288 with 1 Axes>"
      ]
     },
     "metadata": {
      "needs_background": "light"
     },
     "output_type": "display_data"
    }
   ],
   "source": [
    "#plt.plot(trainloss)\n",
    "plt.figure()\n",
    "plt.plot(trainauc,label='trainauc',color='navy')\n",
    "plt.plot(valauc,label='valauc')\n",
    "plt.xlabel('Epoch')\n",
    "plt.ylabel('AUC')\n",
    "plt.title('The AUC Trendency of HGT')\n",
    "plt.legend(loc=4)"
   ]
  },
  {
   "cell_type": "code",
   "execution_count": 43,
   "id": "23ebc731",
   "metadata": {},
   "outputs": [
    {
     "name": "stdout",
     "output_type": "stream",
     "text": [
      "rgcn.conv1.weight : torch.Size([10, 1024, 256])\n",
      "rgcn.conv1.comp : torch.Size([4, 10])\n",
      "rgcn.conv1.root : torch.Size([1024, 256])\n",
      "rgcn.conv1.bias : torch.Size([256])\n",
      "rgcn.conv2.weight : torch.Size([10, 256, 128])\n",
      "rgcn.conv2.comp : torch.Size([4, 10])\n",
      "rgcn.conv2.root : torch.Size([256, 128])\n",
      "rgcn.conv2.bias : torch.Size([128])\n",
      "rgcn.lins.0.weight : torch.Size([1024, 279])\n",
      "rgcn.lins.0.bias : torch.Size([1024])\n",
      "rgcn.lins.1.weight : torch.Size([1024, 14676])\n",
      "rgcn.lins.1.bias : torch.Size([1024])\n",
      "bilstm.rnn.weight_ih_l0 : torch.Size([256, 100])\n",
      "bilstm.rnn.weight_hh_l0 : torch.Size([256, 64])\n",
      "bilstm.rnn.bias_ih_l0 : torch.Size([256])\n",
      "bilstm.rnn.bias_hh_l0 : torch.Size([256])\n",
      "bilstm.rnn.weight_ih_l0_reverse : torch.Size([256, 100])\n",
      "bilstm.rnn.weight_hh_l0_reverse : torch.Size([256, 64])\n",
      "bilstm.rnn.bias_ih_l0_reverse : torch.Size([256])\n",
      "bilstm.rnn.bias_hh_l0_reverse : torch.Size([256])\n",
      "bilstm.rnn.weight_ih_l1 : torch.Size([256, 128])\n",
      "bilstm.rnn.weight_hh_l1 : torch.Size([256, 64])\n",
      "bilstm.rnn.bias_ih_l1 : torch.Size([256])\n",
      "bilstm.rnn.bias_hh_l1 : torch.Size([256])\n",
      "bilstm.rnn.weight_ih_l1_reverse : torch.Size([256, 128])\n",
      "bilstm.rnn.weight_hh_l1_reverse : torch.Size([256, 64])\n",
      "bilstm.rnn.bias_ih_l1_reverse : torch.Size([256])\n",
      "bilstm.rnn.bias_hh_l1_reverse : torch.Size([256])\n",
      "bilstm.linear.weight : torch.Size([128, 8192])\n",
      "bilstm.linear.bias : torch.Size([128])\n",
      "embg.weight : torch.Size([128, 256])\n",
      "pre.lins.0.weight : torch.Size([128, 128])\n",
      "pre.lins.0.bias : torch.Size([128])\n",
      "pre.bilin.weight : torch.Size([128, 128])\n"
     ]
    }
   ],
   "source": [
    "for name,parameters in model.named_parameters():\n",
    "    print(name,':',parameters.size())"
   ]
  },
  {
   "cell_type": "code",
   "execution_count": 30,
   "id": "94e33e4a",
   "metadata": {},
   "outputs": [],
   "source": [
    "#torch.save(HGT.state_dict(),'HGT6_00newall_1BiLinear_new.pth')\n",
    "# torch.save(HGT.state_dict(),'HGT_00newall_BiLinear.pth')\n",
    "torch.save(model.state_dict(),'HGT_BiLSTM.pth')"
   ]
  },
  {
   "cell_type": "code",
   "execution_count": null,
   "id": "67df9a9b",
   "metadata": {},
   "outputs": [],
   "source": []
  }
 ],
 "metadata": {
  "kernelspec": {
   "display_name": "newpyg",
   "language": "python",
   "name": "newpyg"
  },
  "language_info": {
   "codemirror_mode": {
    "name": "ipython",
    "version": 3
   },
   "file_extension": ".py",
   "mimetype": "text/x-python",
   "name": "python",
   "nbconvert_exporter": "python",
   "pygments_lexer": "ipython3",
   "version": "3.9.6"
  }
 },
 "nbformat": 4,
 "nbformat_minor": 5
}
