{
 "cells": [
  {
   "cell_type": "code",
   "execution_count": 1,
   "id": "8e18a30b",
   "metadata": {},
   "outputs": [],
   "source": [
    "import os\n",
    "import pickle\n",
    "# import rpy2.robjects as robjects\n",
    "import torch\n",
    "from torch.autograd import Variable\n",
    "import torch.nn.functional as F\n",
    "from torch import nn\n",
    "from torch.utils.data import Dataset, DataLoader, random_split\n",
    "import numpy as np\n",
    "import scipy.sparse as sp\n",
    "from torchvision import transforms as tfs\n",
    "from torch_geometric.data import HeteroData\n",
    "import torch_geometric.transforms as T\n",
    "from torch_geometric.nn import HGTConv, Linear\n",
    "# from torch_geometric.loader import HGTLoader\n",
    "from torch.cuda.amp import autocast\n",
    "from torch_geometric.utils import negative_sampling\n",
    "from sklearn.metrics import roc_auc_score\n",
    "from torchsummary import summary\n",
    "import random\n",
    "from sklearn.metrics import roc_curve, auc, f1_score, precision_recall_curve, average_precision_score\n",
    "from torch.utils.data import WeightedRandomSampler\n",
    "import math\n",
    "from einops import rearrange, reduce\n",
    "from einops.layers.torch import Rearrange\n",
    "from torch.nn.parameter import Parameter\n",
    "\n",
    "\n",
    "def set_seed(seed):\n",
    "    random.seed(seed)\n",
    "    np.random.seed(seed)\n",
    "    torch.manual_seed(seed)\n",
    "    torch.cuda.manual_seed(seed)\n",
    "    torch.cuda.manual_seed_all(seed)\n",
    "\n",
    "\n",
    "set_seed(2022)\n",
    "\n",
    "\n",
    "class MLPBilPredictor(torch.nn.Module):\n",
    "    def __init__(self, in_channels, hidden_channels, num_layers, dropout_rate=0.3):\n",
    "        super(MLPBilPredictor, self).__init__()\n",
    "        self.lins = torch.nn.ModuleList()\n",
    "        self.lins.append(torch.nn.Linear(in_channels, hidden_channels[0]))\n",
    "        for i in range(num_layers - 1):\n",
    "            self.lins.append(torch.nn.Linear(hidden_channels[i], hidden_channels[i + 1]))\n",
    "        self.bilin = torch.nn.Linear(hidden_channels[-1], hidden_channels[-1], bias=False)\n",
    "        self.dropout = nn.Dropout(p=dropout_rate if dropout_rate is not None else 0)\n",
    "        self.relu = nn.GELU()\n",
    "\n",
    "    def reset_parameters(self):\n",
    "        for lin in self.lins:\n",
    "            lin.reset_parameters()\n",
    "        self.bilin.reset_parameters()\n",
    "\n",
    "    def forward(self, x_i, x_j):\n",
    "        for lin in self.lins:\n",
    "            x_i, x_j = lin(x_i), lin(x_j)\n",
    "            x_i, x_j = self.dropout(self.relu(x_i)), self.dropout(self.relu(x_j))\n",
    "        x = torch.sum(self.bilin(x_i) * x_j, dim=-1)\n",
    "        # x1 = torch.sum(self.bilin(x_i) * x_j, dim=-1)\n",
    "        # x2 = torch.sum(self.bilin(x_j) * x_i, dim=-1)\n",
    "        # x = x1+x2\n",
    "        # x = torch.sum(x_i * x_j, dim=-1)\n",
    "        return x, x_i, x_j\n",
    "\n",
    "\n",
    "# class MLPBilPredictor(torch.nn.Module):\n",
    "#     def __init__(self, in_channels, hidden_channels, num_layers, dropout_rate=0.3):\n",
    "#         super(MLPBilPredictor, self).__init__()\n",
    "#         self.lins = torch.nn.ModuleList()\n",
    "#         self.lins.append(torch.nn.Linear(in_channels, hidden_channels[0]))\n",
    "#         for i in range(num_layers - 1):\n",
    "#             self.lins.append(torch.nn.Linear(hidden_channels[i], hidden_channels[i+1]))\n",
    "#         # self.bilin = torch.nn.Linear(hidden_channels, hidden_channels, bias=False)\n",
    "#         # self.bilin = torch.nn.Linear(in_channels,in_channels, bias=False)\n",
    "#         self.pre = torch.nn.Linear(hidden_channels[-1],1)\n",
    "#         self.relu = nn.GELU()\n",
    "#         self.dropout = nn.Dropout(p=dropout_rate if dropout_rate is not None else 0)\n",
    "#\n",
    "#     def reset_parameters(self):\n",
    "#         for lin in self.lins:\n",
    "#             lin.reset_parameters()\n",
    "#         self.lin.reset_parameters()\n",
    "#\n",
    "#     def forward(self, x):\n",
    "#         for lin in self.lins:\n",
    "#             x= lin(x)\n",
    "#             x= self.dropout(self.relu(x))\n",
    "#         x = self.pre(x)\n",
    "#         # x1 = torch.sum(self.bilin(x_i) * x_j, dim=-1)\n",
    "#         # x2 = torch.sum(self.bilin(x_j) * x_i, dim=-1)\n",
    "#         # x = x1+x2\n",
    "#         # x = torch.sum(x_i * x_j, dim=-1)\n",
    "#         return x\n",
    "\n",
    "class HerGraph(torch.nn.Module):\n",
    "    def __init__(self, dropout_rate=0.3):\n",
    "        super(HerGraph, self).__init__()\n",
    "        self.pre = MLPBilPredictor(3200 + 128, [1024], 1, 0.3)\n",
    "        self.dropout = nn.Dropout(p=dropout_rate if dropout_rate is not None else 0)\n",
    "        self.relu = nn.GELU()\n",
    "\n",
    "    def decoderMLP(self, xm, xg, edge):\n",
    "        xm = xm[edge[0]]\n",
    "        xg = xg[edge[1]]\n",
    "        s, xm, xg = self.pre(xm, xg)\n",
    "        return s, xm, xg\n",
    "\n",
    "    def forward(self, seq_dict, x_dict, edge_index_dict, label_edge):\n",
    "        xm1 = seq_dict['miRNA']\n",
    "        xg1 = seq_dict['gene']\n",
    "        xm2 = x_dict['miRNA']\n",
    "        xg2 = x_dict['gene']\n",
    "        xm = self.dropout(self.relu(torch.cat([xm1, xm2], dim=1)))\n",
    "        xg = self.dropout(self.relu(torch.cat([xg1, xg2], dim=1)))\n",
    "        s, xm, xg = self.decoderMLP(xm, xg, label_edge)\n",
    "        return s, xm, xg\n",
    "\n",
    "\n",
    "class FocalLoss(nn.Module):\n",
    "    def __init__(self, alpha=0.25, gamma=2.0, reduce='mean'):\n",
    "        super(FocalLoss, self).__init__()\n",
    "        self.alpha = alpha\n",
    "        self.gamma = gamma\n",
    "        self.reduce = reduce\n",
    "\n",
    "    def forward(self, classifications, targets):\n",
    "        # classifcation:[N,K]\n",
    "        # targets: [N,K]的one-hot编码\n",
    "        alpha = self.alpha\n",
    "        gamma = self.gamma\n",
    "        # classifications = classifications.view(-1)  # 不经过sigmoid的classification；\n",
    "        # targets = targets.view(-1)                  # 应该是 one-hot\n",
    "        # ce_loss: 对应公式中 -log(pt),也就是普通的 交叉熵损失；--> 该函数接收未经sigmoid的函数；\n",
    "        ce_loss = F.binary_cross_entropy_with_logits(classifications, targets, reduction=\"none\")\n",
    "        # focal loss\n",
    "        p = torch.sigmoid(classifications)  # 经过sigmoid\n",
    "        p_t = p * targets + (1 - p) * (1 - targets)  # 计算pt\n",
    "        loss = ce_loss * ((1 - p_t) ** gamma)  # -log(pt) * (1-pt) ** ganmma\n",
    "        if alpha >= 0:\n",
    "            # 对应公式中alpha_t控制损失的权重\n",
    "            alpha_t = alpha * targets + (1 - alpha) * (1 - targets)  # 和pt求解过程一样\n",
    "            loss = alpha_t * loss  # 最终focal loss\n",
    "        if self.reduce == 'sum':\n",
    "            loss = loss.sum()\n",
    "        elif self.reduce == 'mean':\n",
    "            loss = loss.mean()\n",
    "        else:\n",
    "            raise ValueError('reduce type is wrong!')\n",
    "        return loss\n",
    "\n",
    "\n",
    "class BCEFocalLoss(torch.nn.Module):\n",
    "\n",
    "    def __init__(self, gamma=2, alpha=0.25, reduction='elementwise_mean'):\n",
    "        super().__init__()\n",
    "        self.gamma = gamma\n",
    "        self.alpha = alpha\n",
    "        self.reduction = reduction\n",
    "\n",
    "    def forward(self, _input, target):\n",
    "        pt = torch.sigmoid(_input)\n",
    "        loss = - self.alpha * (1 - pt) ** self.gamma * target * torch.log(pt) - \\\n",
    "               (1 - self.alpha) * pt ** self.gamma * (1 - target) * torch.log(1 - pt)\n",
    "        #         loss = - self.alpha * pt ** self.gamma * target * torch.log(pt) - \\\n",
    "        #             (1-self.alpha)*(1 - pt)** self.gamma * (1 - target) * torch.log(1 - pt)\n",
    "        if self.reduction == 'elementwise_mean':\n",
    "            loss = torch.mean(loss)\n",
    "        elif self.reduction == 'sum':\n",
    "            loss = torch.sum(loss)\n",
    "        return loss\n",
    "\n",
    "\n",
    "def trainAll(model, train_data, lossF):\n",
    "    model.train()\n",
    "    out, _, _ = model(train_data.seq_dict, train_data.sim_dict, train_data.edge_index_dict,\n",
    "                      train_data['regulate'].edge_label_index)\n",
    "    out = out.view(-1)\n",
    "    # print('out')\n",
    "    rel = train_data['regulate'].edge_label\n",
    "    # loss = F.binary_cross_entropy_with_logits(out,rel)\n",
    "    loss = lossF(out, rel)\n",
    "    pre = torch.sigmoid(out)\n",
    "    assert torch.isnan(loss).sum() == 0, print(loss)\n",
    "    auc = roc_auc_score(rel.detach().numpy(), pre.detach().numpy())\n",
    "    aupr = average_precision_score(rel.detach().numpy(), pre.detach().numpy())\n",
    "    #     out = model(train_data.x_dict,train_data.edge_index_dict)\n",
    "    #     pre=out[train_data['regulate'].edge_label_index[0],train_data['regulate'].edge_label_index[1]]\n",
    "    #     rel=train_data['regulate'].edge_label\n",
    "    #     loss = F.binary_cross_entropy_with_logits(pre,rel)\n",
    "    #     pre=torch.sigmoid(pre)\n",
    "    #     assert torch.isnan(loss).sum() == 0, print(loss)\n",
    "    #     auc=roc_auc_score(rel.detach().numpy(), pre.detach().numpy())\n",
    "    optimizer.zero_grad()\n",
    "    loss.backward()\n",
    "    optimizer.step()\n",
    "    return (loss.item(), auc, aupr)\n",
    "\n",
    "\n",
    "def evaluateAll(model, dat, lossF):\n",
    "    model.eval()\n",
    "    valloss = 0\n",
    "    valauc = 0\n",
    "    with torch.no_grad():\n",
    "        out, _, _ = model(dat.seq_dict, dat.sim_dict, dat.edge_index_dict, dat['regulate'].edge_label_index)\n",
    "        out = out.view(-1)\n",
    "        rel = dat['regulate'].edge_label\n",
    "        # loss = F.binary_cross_entropy_with_logits(out,rel)\n",
    "        loss = lossF(out, rel)\n",
    "        pre = torch.sigmoid(out)\n",
    "        #         out = model(dat.x_dict,dat.edge_index_dict)\n",
    "        #         pre=out[dat['regulate'].edge_label_index[0],dat['regulate'].edge_label_index[1]]\n",
    "        #         rel=dat['regulate'].edge_label\n",
    "        #         loss = F.binary_cross_entropy_with_logits(pre,rel)\n",
    "        #         pre=torch.sigmoid(pre)\n",
    "        auc = roc_auc_score(rel.detach().numpy(), pre.detach().numpy())\n",
    "        aupr = average_precision_score(rel.detach().numpy(), pre.detach().numpy())\n",
    "    return (loss.item(), auc, aupr)\n",
    "\n",
    "\n",
    "class EarlyStopping():\n",
    "    def __init__(self, tolerance=50, min_delta=0.1):\n",
    "        self.tolerance = tolerance\n",
    "        self.min_delta = min_delta\n",
    "        self.counter = 0\n",
    "        self.early_stop = False\n",
    "\n",
    "    def __call__(self, val_best_auc, val_auc):\n",
    "        if val_auc < val_best_auc:\n",
    "            self.counter += 1\n",
    "            if self.counter >= self.tolerance:\n",
    "                self.early_stop = True\n",
    "\n",
    "\n",
    "def transfer_model(pretrained_file, model):\n",
    "    pretrained_dict = torch.load(pretrained_file, map_location=torch.device('cpu'))  # get pretrained dict\n",
    "    model_dict = model.state_dict()  # get model dict\n",
    "    pretrained_dict = transfer_state_dict(pretrained_dict, model_dict)\n",
    "    model_dict.update(pretrained_dict)\n",
    "    model.load_state_dict(model_dict)\n",
    "    return model\n",
    "\n",
    "\n",
    "def transfer_state_dict(pretrained_dict, model_dict):\n",
    "    state_dict = {}\n",
    "    for k, v in pretrained_dict.items():\n",
    "        if k in model_dict.keys():\n",
    "            state_dict[k] = v\n",
    "        else:\n",
    "            print(\"Missing key(s) in state_dict :{}\".format(k))\n",
    "    return state_dict\n",
    "\n",
    "\n",
    "if __name__ == '__main__':\n",
    "    with open('/lustre06/project/6050659/liupei89/Testcell/newNetData/pos_neg/newdataCombine00_newall.pkl',\n",
    "              'rb') as f:  # Python 3: open(..., 'rb')\n",
    "        train_data, val_data, test_data, m, g = pickle.load(f)\n",
    "\n",
    "    # train_data ['miRNA'].sim = train_data ['miRNA'].mm + train_data ['miRNA'].x\n",
    "    # val_data ['miRNA'].sim = train_data ['miRNA'].mm + train_data ['miRNA'].x\n",
    "    # test_data ['miRNA'].sim = train_data ['miRNA'].mm + train_data ['miRNA'].x\n",
    "    # train_data ['gene'].sim = train_data ['gene'].gg + train_data ['gene'].x\n",
    "    # val_data ['gene'].sim = train_data ['gene'].gg + train_data ['gene'].x\n",
    "    # test_data ['gene'].sim = train_data ['gene'].gg + train_data ['gene'].x\n",
    "    # nodetypes=train_data.node_types\n",
    "    # metadata=train_data.metadata()\n",
    "\n",
    "    with open('/lustre06/project/6050659/liupei89/Testcell/TranCNN13_mgEmbedding_1.pkl',\n",
    "              'rb') as f:  # Python 3: open(..., 'rb')\n",
    "        xm1, xg1 = pickle.load(f)\n",
    "\n",
    "    train_data['miRNA'].seq = xm1\n",
    "    val_data['miRNA'].seq = xm1\n",
    "    test_data['miRNA'].seq = xm1\n",
    "    train_data['gene'].seq = xg1\n",
    "    val_data['gene'].seq = xg1\n",
    "    test_data['gene'].seq = xg1\n",
    "\n",
    "    with open('/lustre06/project/6050659/liupei89/Testcell/HGT6_mgEmbedding_1.pkl',\n",
    "              'rb') as f:  # Python 3: open(..., 'rb')\n",
    "        xm2, xg2 = pickle.load(f)\n",
    "\n",
    "    train_data['miRNA'].sim = xm2\n",
    "    val_data['miRNA'].sim = xm2\n",
    "    test_data['miRNA'].sim = xm2\n",
    "    train_data['gene'].sim = xg2\n",
    "    val_data['gene'].sim = xg2\n",
    "    test_data['gene'].sim = xg2\n",
    "\n",
    "#     model = HerGraph(dropout_rate=0.3)\n",
    "\n",
    "#     print(model)\n",
    "\n",
    "#     for m in model.modules():\n",
    "#         if isinstance(m, (torch.nn.Linear, torch.nn.Conv1d, torch.nn.Conv2d)):\n",
    "#             torch.nn.init.kaiming_normal_(m.weight, mode='fan_in')\n",
    "\n",
    "#     optimizer = torch.optim.AdamW(model.parameters(), lr=0.0001, weight_decay=5e-3)\n",
    "#     lossF = FocalLoss(alpha=0.65, gamma=2, reduce='mean')\n",
    "#     # lossF=BCEFocalLoss(gamma=1, alpha=0.75, reduction='elementwise_mean')\n",
    "#     early_stopping = EarlyStopping(tolerance=200, min_delta=0.15)\n",
    "\n",
    "#     import time\n",
    "\n",
    "#     best_val_auc = best_val_aupr = 0\n",
    "#     trainloss = []\n",
    "#     valloss = []\n",
    "#     valauc = []\n",
    "#     trainauc = []\n",
    "#     valaupr = []\n",
    "#     trainaupr = []\n",
    "#     lrchange = []\n",
    "#     for epoch in range(1, 2001):\n",
    "#         since = time.time()\n",
    "#         print('{} optim: {}'.format(epoch, optimizer.param_groups[0]['lr']))\n",
    "#         lrchange.append(optimizer.param_groups[0]['lr'])\n",
    "#         train_loss, train_auc, train_aupr = trainAll(model, train_data, lossF)\n",
    "#         trainloss.append(train_loss)\n",
    "#         print('train_loss:', train_loss)\n",
    "#         # time_elapsed = time.time() - since\n",
    "#         # print('Training in {:.0f}m {:.0f}s'.format(time_elapsed // 60, time_elapsed % 60))\n",
    "#         # since1 = time.time()\n",
    "#         val_loss, val_auc, val_aupr = evaluateAll(model, val_data, lossF)\n",
    "#         valauc.append(val_auc)\n",
    "#         valloss.append(val_loss)\n",
    "#         trainauc.append(train_auc)\n",
    "#         valaupr.append(val_aupr)\n",
    "#         trainaupr.append(train_aupr)\n",
    "#         # time_elapsed = time.time() - since1\n",
    "#         # print('Val and Testing in {:.0f}m {:.0f}s'.format(time_elapsed // 60, time_elapsed % 60))\n",
    "#         if val_aupr > best_val_aupr:\n",
    "#             best_val_auc = val_auc\n",
    "#             best_val_aupr = val_aupr\n",
    "#             torch.save(model, 'HerMLPbest.pt')\n",
    "#         #    test_auc= tmp_test_auc\n",
    "#         # scheduler.step()\n",
    "#         time_elapsed = time.time() - since\n",
    "#         log = 'Epoch: {:03d}, Epoch complete in {:.0f}m {:.0f}s, trainLoss: {:.4f}, Valloss: {:.4f}, Trainauc: {:.4f}, Valauc: {:.4f}, Valbestauc: {:.4f},Trainaupr: {:.4f}, Valaupr: {:.4f}, Valbestaupr: {:.4f}'\n",
    "#         print(log.format(epoch, time_elapsed // 60, time_elapsed % 60, train_loss, val_loss, train_auc, val_auc,\n",
    "#                          best_val_auc, train_aupr, val_aupr, best_val_aupr))\n",
    "\n",
    "#         # early_stopping(train_auc, val_auc)\n",
    "#         # if early_stopping.early_stop:\n",
    "#         #     print(\"We are at epoch:\", epoch)\n",
    "#         #     break\n",
    "\n",
    "#     with open('HerMLPResult.pkl', 'wb') as f:  # Python 3: open(..., 'wb')\n",
    "#         pickle.dump([trainloss, trainauc, trainaupr, valloss, valauc, valaupr, lrchange], f)\n",
    "\n",
    "#     torch.save(model, 'HerMLP.pt')"
   ]
  },
  {
   "cell_type": "code",
   "execution_count": 2,
   "id": "66e389fa",
   "metadata": {},
   "outputs": [],
   "source": [
    "import matplotlib.pyplot as plt"
   ]
  },
  {
   "cell_type": "code",
   "execution_count": 4,
   "id": "1a83f280",
   "metadata": {},
   "outputs": [],
   "source": [
    "### data 00\n",
    "#/home/liupei89/shfolder/new/HGT/5/0.001_2_0.35_5e-3_1000\n",
    "#HGT = torch.load(\"/home/liupei89/shfolder/new/HGT/6/128/HGTbest.pt\")\n",
    "#Her = torch.load(\"/home/liupei89/shfolder/Herbest.pt\")\n",
    "Her = torch.load(\"/home/liupei89/shfolder/new/Her/HerMLP/2000_0.0001/HerMLPbest.pt\")"
   ]
  },
  {
   "cell_type": "code",
   "execution_count": 5,
   "id": "a366fbe4",
   "metadata": {},
   "outputs": [
    {
     "data": {
      "text/plain": [
       "HerGraph(\n",
       "  (pre): MLPBilPredictor(\n",
       "    (lins): ModuleList(\n",
       "      (0): Linear(in_features=3328, out_features=1024, bias=True)\n",
       "    )\n",
       "    (bilin): Linear(in_features=1024, out_features=1024, bias=False)\n",
       "    (dropout): Dropout(p=0.3, inplace=False)\n",
       "    (relu): GELU()\n",
       "  )\n",
       "  (dropout): Dropout(p=0.3, inplace=False)\n",
       "  (relu): GELU()\n",
       ")"
      ]
     },
     "execution_count": 5,
     "metadata": {},
     "output_type": "execute_result"
    }
   ],
   "source": [
    "Her"
   ]
  },
  {
   "cell_type": "code",
   "execution_count": 6,
   "id": "3e5cf729",
   "metadata": {},
   "outputs": [
    {
     "data": {
      "text/plain": [
       "HeteroData(\n",
       "  \u001b[1mmiRNA\u001b[0m={\n",
       "    x=[279, 279],\n",
       "    seq=[279, 3200],\n",
       "    mm=[279, 279],\n",
       "    sim=[279, 128]\n",
       "  },\n",
       "  \u001b[1mgene\u001b[0m={\n",
       "    x=[14676, 14676],\n",
       "    seq=[14676, 3200],\n",
       "    gg=[14676, 14676],\n",
       "    sim=[14676, 128]\n",
       "  },\n",
       "  \u001b[1m(miRNA, regulate, gene)\u001b[0m={\n",
       "    edge_index=[2, 73905],\n",
       "    edge_label_index=[2, 8213],\n",
       "    edge_label=[8213]\n",
       "  },\n",
       "  \u001b[1m(gene, coocurrence, gene)\u001b[0m={ edge_index=[2, 2087674] },\n",
       "  \u001b[1m(miRNA, cofamily, miRNA)\u001b[0m={ edge_index=[2, 418] },\n",
       "  \u001b[1m(gene, rev_regulate, miRNA)\u001b[0m={ edge_index=[2, 73905] }\n",
       ")"
      ]
     },
     "execution_count": 6,
     "metadata": {},
     "output_type": "execute_result"
    }
   ],
   "source": [
    "test_data"
   ]
  },
  {
   "cell_type": "code",
   "execution_count": 7,
   "id": "77800cd4",
   "metadata": {},
   "outputs": [],
   "source": [
    "Her.eval()\n",
    "valloss = 0\n",
    "valauc = 0\n",
    "with torch.no_grad():\n",
    "    out, _, _ = Her(test_data.seq_dict, test_data.sim_dict, test_data.edge_index_dict, test_data['regulate'].edge_label_index)\n",
    "    out = out.view(-1)\n",
    "    rel = test_data['regulate'].edge_label\n",
    "    # loss = F.binary_cross_entropy_with_logits(out,rel)\n",
    "    #loss = lossF(out, rel)\n",
    "    pre = torch.sigmoid(out)\n",
    "    auc = roc_auc_score(rel.detach().numpy(), pre.detach().numpy())\n",
    "    aupr = average_precision_score(rel.detach().numpy(), pre.detach().numpy())"
   ]
  },
  {
   "cell_type": "code",
   "execution_count": 8,
   "id": "22e60164",
   "metadata": {},
   "outputs": [
    {
     "name": "stdout",
     "output_type": "stream",
     "text": [
      "0.8705548759102928 0.8108665734192012\n"
     ]
    }
   ],
   "source": [
    "print(auc,aupr)"
   ]
  },
  {
   "cell_type": "code",
   "execution_count": 9,
   "id": "35fd92ad",
   "metadata": {},
   "outputs": [],
   "source": [
    "from sklearn.metrics import roc_curve, auc, f1_score, precision_recall_curve, average_precision_score\n",
    "from sklearn.metrics import accuracy_score, precision_score, recall_score, f1_score, classification_report, confusion_matrix"
   ]
  },
  {
   "cell_type": "code",
   "execution_count": 10,
   "id": "59147a30",
   "metadata": {},
   "outputs": [
    {
     "data": {
      "text/plain": [
       "torch.Size([2223])"
      ]
     },
     "execution_count": 10,
     "metadata": {},
     "output_type": "execute_result"
    }
   ],
   "source": [
    "rel[rel==1].size()"
   ]
  },
  {
   "cell_type": "code",
   "execution_count": 11,
   "id": "018377a8",
   "metadata": {},
   "outputs": [
    {
     "name": "stdout",
     "output_type": "stream",
     "text": [
      "torch.Size([2223])\n",
      "torch.Size([5990])\n",
      "torch.Size([1900])\n",
      "torch.Size([6313])\n"
     ]
    }
   ],
   "source": [
    "#rel[rel==1].size()\n",
    "allrelpos=torch.nonzero(rel==1).squeeze()\n",
    "print(allrelpos.size())\n",
    "allrelneg=torch.nonzero(rel==0).squeeze()\n",
    "print(allrelneg.size())\n",
    "\n",
    "allprepos=torch.nonzero(pre>=0.5).squeeze()##从0开始\n",
    "print(allprepos.size())\n",
    "allpreneg=torch.nonzero(pre<0.5).squeeze()##从0开始\n",
    "print(allpreneg.size())"
   ]
  },
  {
   "cell_type": "code",
   "execution_count": 12,
   "id": "136d538a",
   "metadata": {},
   "outputs": [
    {
     "name": "stdout",
     "output_type": "stream",
     "text": [
      "torch.Size([1508])\n",
      "torch.Size([392])\n",
      "torch.Size([5598])\n",
      "torch.Size([715])\n"
     ]
    }
   ],
   "source": [
    "a=set(allprepos.numpy())\n",
    "b=set(allrelpos.numpy())\n",
    "c=torch.tensor(list(a&b))\n",
    "tp=c\n",
    "print(tp.size())#1545\n",
    "\n",
    "a=set(allprepos.numpy())\n",
    "b=set(allrelneg.numpy())\n",
    "c=torch.tensor(list(a&b))\n",
    "fp=c\n",
    "print(fp.size())#779\n",
    "\n",
    "a=set(allpreneg.numpy())\n",
    "b=set(allrelneg.numpy())\n",
    "c=torch.tensor(list(a&b))\n",
    "tn=c\n",
    "print(tn.size())#5211\n",
    "\n",
    "a=set(allpreneg.numpy())\n",
    "b=set(allrelpos.numpy())\n",
    "c=torch.tensor(list(a&b))\n",
    "fn=c\n",
    "print(fn.size())#678"
   ]
  },
  {
   "cell_type": "code",
   "execution_count": 13,
   "id": "97f86a17",
   "metadata": {},
   "outputs": [
    {
     "data": {
      "text/plain": [
       "2223"
      ]
     },
     "execution_count": 13,
     "metadata": {},
     "output_type": "execute_result"
    }
   ],
   "source": [
    "tp.size(0)+fn.size(0)"
   ]
  },
  {
   "cell_type": "code",
   "execution_count": 14,
   "id": "8cf4bcd6",
   "metadata": {},
   "outputs": [
    {
     "name": "stdout",
     "output_type": "stream",
     "text": [
      "0.6783625730994152\n"
     ]
    }
   ],
   "source": [
    "recall=tp.size(0)/(tp.size(0)+fn.size(0))\n",
    "print(recall)"
   ]
  },
  {
   "cell_type": "code",
   "execution_count": 15,
   "id": "89ac042b",
   "metadata": {},
   "outputs": [
    {
     "name": "stdout",
     "output_type": "stream",
     "text": [
      "0.7936842105263158\n"
     ]
    }
   ],
   "source": [
    "precision=tp.size(0)/(tp.size(0)+fp.size(0))\n",
    "print(precision)"
   ]
  },
  {
   "cell_type": "code",
   "execution_count": 16,
   "id": "e68f747e",
   "metadata": {},
   "outputs": [
    {
     "name": "stdout",
     "output_type": "stream",
     "text": [
      "0.7315061848168809\n"
     ]
    }
   ],
   "source": [
    "f1 = 2 * precision * recall / (precision + recall)\n",
    "print(f1)"
   ]
  },
  {
   "cell_type": "code",
   "execution_count": 17,
   "id": "67aef639",
   "metadata": {},
   "outputs": [],
   "source": [
    "with open('HerMLP_result.pkl', 'wb') as f:  # Python 3: open(..., 'wb')\n",
    "    pickle.dump([tp,fp,tn,fn,rel,pre], f)"
   ]
  },
  {
   "cell_type": "code",
   "execution_count": 18,
   "id": "fb85b9a5",
   "metadata": {},
   "outputs": [
    {
     "data": {
      "text/plain": [
       "tensor([0.2986, 0.7279, 0.0917,  ..., 0.0091, 0.0216, 0.5639])"
      ]
     },
     "execution_count": 18,
     "metadata": {},
     "output_type": "execute_result"
    }
   ],
   "source": [
    "pre"
   ]
  },
  {
   "cell_type": "code",
   "execution_count": 19,
   "id": "af58f6dd",
   "metadata": {},
   "outputs": [
    {
     "data": {
      "text/plain": [
       "tensor([1., 1., 1.,  ..., 0., 0., 0.])"
      ]
     },
     "execution_count": 19,
     "metadata": {},
     "output_type": "execute_result"
    }
   ],
   "source": [
    "rel"
   ]
  },
  {
   "cell_type": "code",
   "execution_count": 43,
   "id": "bf8ec265",
   "metadata": {},
   "outputs": [],
   "source": [
    "# HGT.eval()\n",
    "# valloss=0\n",
    "# valauc=0\n",
    "# with torch.no_grad():\n",
    "#     out = HGT(train_data.sim_dict,train_data.edge_index_dict,train_data['regulate'].edge_label_index)\n",
    "#     out=out.view(-1)\n",
    "#     rel=train_data['regulate'].edge_label\n",
    "#     #loss = F.binary_cross_entropy_with_logits(out,rel)\n",
    "#     pre=torch.sigmoid(out) \n",
    "\n",
    "#     auc=roc_auc_score(rel.detach().numpy(), pre.detach().numpy())"
   ]
  },
  {
   "cell_type": "code",
   "execution_count": 7,
   "id": "179f63dc",
   "metadata": {},
   "outputs": [
    {
     "data": {
      "text/plain": [
       "tensor(1.)"
      ]
     },
     "execution_count": 7,
     "metadata": {},
     "output_type": "execute_result"
    }
   ],
   "source": [
    "# max(pre)"
   ]
  },
  {
   "cell_type": "code",
   "execution_count": 21,
   "id": "e2c47278",
   "metadata": {},
   "outputs": [],
   "source": [
    "with open('HerMLP_result.pkl','rb') as f:  # Python 3: open(..., 'rb')\n",
    "        _,_,_,_,rel,pre = pickle.load(f)"
   ]
  },
  {
   "cell_type": "code",
   "execution_count": 22,
   "id": "5102c8af",
   "metadata": {},
   "outputs": [],
   "source": [
    "from sklearn.metrics import roc_curve, auc, f1_score, precision_recall_curve, average_precision_score\n",
    "from sklearn.metrics import accuracy_score, precision_score, recall_score, f1_score, classification_report, confusion_matrix"
   ]
  },
  {
   "cell_type": "code",
   "execution_count": 23,
   "id": "cc0a0392",
   "metadata": {},
   "outputs": [
    {
     "data": {
      "text/plain": [
       "0.8705548759102928"
      ]
     },
     "execution_count": 23,
     "metadata": {},
     "output_type": "execute_result"
    }
   ],
   "source": [
    "fpr, tpr, thresholds = roc_curve(rel.numpy(), pre.numpy(), pos_label=1)\n",
    "testauc=auc(fpr,tpr)\n",
    "testauc"
   ]
  },
  {
   "cell_type": "code",
   "execution_count": 24,
   "id": "731c3aed",
   "metadata": {},
   "outputs": [
    {
     "data": {
      "text/plain": [
       "0.8108665734192012"
      ]
     },
     "execution_count": 24,
     "metadata": {},
     "output_type": "execute_result"
    }
   ],
   "source": [
    "precision, recall, _ = precision_recall_curve(rel.numpy(), pre.numpy(),pos_label=1)\n",
    "testaupr= average_precision_score(rel.numpy(), pre.numpy())\n",
    "testaupr #0.8026"
   ]
  },
  {
   "cell_type": "code",
   "execution_count": 25,
   "id": "1aad8d9d",
   "metadata": {},
   "outputs": [
    {
     "data": {
      "text/plain": [
       "<matplotlib.legend.Legend at 0x15481d341280>"
      ]
     },
     "execution_count": 25,
     "metadata": {},
     "output_type": "execute_result"
    },
    {
     "data": {
      "image/png": "[encoded data removed]",
      "text/plain": [
       "<Figure size 432x288 with 1 Axes>"
      ]
     },
     "metadata": {
      "needs_background": "light"
     },
     "output_type": "display_data"
    }
   ],
   "source": [
    "plt.figure()\n",
    "plt.step(fpr, tpr,color='navy',linewidth=2,label='AUC = {0:.4f})'.format(testauc))\n",
    "#plt.plot([0, 0], [1, 1], color='navy',linestyle='--')\n",
    "plt.xlim([0.0, 1.0])\n",
    "plt.ylim([0.0, 1.05])\n",
    "plt.xlabel('False Positive Rate')\n",
    "plt.ylabel('True Positive Rate')\n",
    "plt.title('ROC curve')\n",
    "plt.legend(loc=4)\n",
    "#plt.savefig(\"auc_curve.jpg\")"
   ]
  },
  {
   "cell_type": "code",
   "execution_count": 26,
   "id": "5d946aaf",
   "metadata": {
    "scrolled": true
   },
   "outputs": [
    {
     "data": {
      "text/plain": [
       "<matplotlib.legend.Legend at 0x15481d28eeb0>"
      ]
     },
     "execution_count": 26,
     "metadata": {},
     "output_type": "execute_result"
    },
    {
     "data": {
      "image/png": "[encoded data removed]",
      "text/plain": [
       "<Figure size 432x288 with 1 Axes>"
      ]
     },
     "metadata": {
      "needs_background": "light"
     },
     "output_type": "display_data"
    }
   ],
   "source": [
    "plt.figure()\n",
    "plt.step(recall,precision,color='navy',linewidth=2,label='AUPR = {0:.4f})'.format(testaupr))\n",
    "plt.xlabel('Recall')\n",
    "plt.ylabel('Precision')\n",
    "plt.ylim([0.0, 1.05])\n",
    "plt.xlim([0.0, 1.0])\n",
    "plt.title('PR Curve')\n",
    "plt.legend(loc=4)\n",
    "#plt.savefig(\"pr_curve.jpg\")"
   ]
  },
  {
   "cell_type": "code",
   "execution_count": 25,
   "id": "8aeab956",
   "metadata": {},
   "outputs": [],
   "source": [
    "#data 00\n",
    "#/home/liupei89/shfolder/new/HGT/5/0.001_2_0.35_5e-3_1000\n",
    "#/home/liupei89/shfolder/new/HGT/5\n",
    "with open('/home/liupei89/shfolder/new/Her/HerMLP/2000_0.0001/HerMLPResult.pkl','rb') as f:  # Python 3: open(..., 'rb')\n",
    "       trainloss, trainauc,trainaupr,valloss,valauc,valaupr,lrchange = pickle.load(f)"
   ]
  },
  {
   "cell_type": "code",
   "execution_count": 29,
   "id": "d5fdeef0",
   "metadata": {},
   "outputs": [
    {
     "data": {
      "text/plain": [
       "<matplotlib.legend.Legend at 0x14b55efb2d30>"
      ]
     },
     "execution_count": 29,
     "metadata": {},
     "output_type": "execute_result"
    },
    {
     "data": {
      "image/png": "[encoded data removed]",
      "text/plain": [
       "<Figure size 432x288 with 1 Axes>"
      ]
     },
     "metadata": {
      "needs_background": "light"
     },
     "output_type": "display_data"
    }
   ],
   "source": [
    "#plt.plot(trainloss)\n",
    "plt.figure()\n",
    "plt.plot(trainloss,label='trainloss')\n",
    "plt.plot(valloss,label='valloss')\n",
    "plt.plot(trainauc,label='trainauc')\n",
    "plt.plot(valauc,label='valauc')\n",
    "plt.plot(trainaupr,label='trainaupr')\n",
    "plt.plot(valaupr,label='valaupr')\n",
    "plt.xlabel('Epoch')\n",
    "plt.ylabel('Loss')\n",
    "plt.title('The Loss Trendency of HerMLP')\n",
    "plt.legend(loc=1)"
   ]
  },
  {
   "cell_type": "code",
   "execution_count": 30,
   "id": "e5a56f86",
   "metadata": {},
   "outputs": [
    {
     "data": {
      "text/plain": [
       "<matplotlib.legend.Legend at 0x14b55eee74c0>"
      ]
     },
     "execution_count": 30,
     "metadata": {},
     "output_type": "execute_result"
    },
    {
     "data": {
      "image/png": "[encoded data removed]",
      "text/plain": [
       "<Figure size 432x288 with 1 Axes>"
      ]
     },
     "metadata": {
      "needs_background": "light"
     },
     "output_type": "display_data"
    }
   ],
   "source": [
    "#plt.plot(trainloss)\n",
    "plt.figure()\n",
    "plt.plot(trainloss,label='trainloss',color='navy')\n",
    "plt.plot(valloss,label='valloss')\n",
    "plt.xlabel('Epoch')\n",
    "plt.ylabel('Loss')\n",
    "plt.title('The Loss Trendency of HerMLP')\n",
    "plt.legend(loc=1)"
   ]
  },
  {
   "cell_type": "code",
   "execution_count": 31,
   "id": "deec92d9",
   "metadata": {},
   "outputs": [
    {
     "data": {
      "text/plain": [
       "<matplotlib.legend.Legend at 0x14b55ee5f3a0>"
      ]
     },
     "execution_count": 31,
     "metadata": {},
     "output_type": "execute_result"
    },
    {
     "data": {
      "image/png": "[encoded data removed]",
      "text/plain": [
       "<Figure size 432x288 with 1 Axes>"
      ]
     },
     "metadata": {
      "needs_background": "light"
     },
     "output_type": "display_data"
    }
   ],
   "source": [
    "#plt.plot(trainloss)\n",
    "plt.figure()\n",
    "plt.plot(trainauc,label='trainauc',color='navy')\n",
    "plt.plot(valauc,label='valauc')\n",
    "plt.plot(trainaupr,label='trainaupr')\n",
    "plt.plot(valaupr,label='valaupr')\n",
    "plt.xlabel('Epoch')\n",
    "plt.ylabel('AUC')\n",
    "plt.title('The AUC Trendency of HerMLP')\n",
    "plt.legend(loc=4)"
   ]
  },
  {
   "cell_type": "code",
   "execution_count": 32,
   "id": "62a27995",
   "metadata": {},
   "outputs": [
    {
     "data": {
      "text/plain": [
       "<matplotlib.legend.Legend at 0x14b55ede4610>"
      ]
     },
     "execution_count": 32,
     "metadata": {},
     "output_type": "execute_result"
    },
    {
     "data": {
      "image/png": "[encoded data removed]",
      "text/plain": [
       "<Figure size 432x288 with 1 Axes>"
      ]
     },
     "metadata": {
      "needs_background": "light"
     },
     "output_type": "display_data"
    }
   ],
   "source": [
    "#plt.plot(trainloss)\n",
    "plt.figure()\n",
    "plt.plot(trainaupr,label='trainaupr')\n",
    "plt.plot(valaupr,label='valaupr')\n",
    "plt.xlabel('Epoch')\n",
    "plt.ylabel('AUPR')\n",
    "#plt.ylim([0.5, 0.71])\n",
    "plt.title('The AUPR Trendency of HerMLP')\n",
    "plt.legend(loc=4)"
   ]
  },
  {
   "cell_type": "code",
   "execution_count": 33,
   "id": "2dc35f5a",
   "metadata": {},
   "outputs": [
    {
     "data": {
      "text/plain": [
       "<matplotlib.legend.Legend at 0x14b55ed59940>"
      ]
     },
     "execution_count": 33,
     "metadata": {},
     "output_type": "execute_result"
    },
    {
     "data": {
      "image/png": "[encoded data removed]",
      "text/plain": [
       "<Figure size 432x288 with 1 Axes>"
      ]
     },
     "metadata": {
      "needs_background": "light"
     },
     "output_type": "display_data"
    }
   ],
   "source": [
    "#plt.plot(trainloss)\n",
    "plt.figure()\n",
    "plt.plot(trainauc,label='trainauc',color='navy')\n",
    "plt.plot(valauc,label='valauc')\n",
    "plt.xlabel('Epoch')\n",
    "plt.ylabel('AUC')\n",
    "plt.title('The AUC Trendency of HerMLP')\n",
    "plt.legend(loc=4)"
   ]
  },
  {
   "cell_type": "code",
   "execution_count": 27,
   "id": "23ebc731",
   "metadata": {},
   "outputs": [
    {
     "name": "stdout",
     "output_type": "stream",
     "text": [
      "pre.lins.0.weight : torch.Size([1024, 3328])\n",
      "pre.lins.0.bias : torch.Size([1024])\n",
      "pre.bilin.weight : torch.Size([1024, 1024])\n"
     ]
    }
   ],
   "source": [
    "for name,parameters in Her.named_parameters():\n",
    "    print(name,':',parameters.size())"
   ]
  },
  {
   "cell_type": "code",
   "execution_count": 28,
   "id": "94e33e4a",
   "metadata": {},
   "outputs": [],
   "source": [
    "#torch.save(HGT.state_dict(),'HGT6_00newall_1BiLinear_new.pth')\n",
    "# torch.save(HGT.state_dict(),'HGT_00newall_BiLinear.pth')\n",
    "torch.save(Her.state_dict(),'HerMLP.pth')"
   ]
  },
  {
   "cell_type": "code",
   "execution_count": 36,
   "id": "b8a56124",
   "metadata": {},
   "outputs": [],
   "source": [
    "# input1 = torch.randn(5, 128)\n",
    "# input2 = torch.randn(10, 128)\n",
    "# label=torch.tensor([1,1,1,1,1,0,0,0,0,0])\n",
    "# label=1-label\n",
    "# loss=0\n",
    "# for i in range(0,input1.size(0)):\n",
    "#     euclidean_distance = F.pairwise_distance(input1[i,:], input2, p=2) \n",
    "#     print(euclidean_distance.size())\n",
    "#     loss_contrastive = torch.mean((1-label) * torch.pow(euclidean_distance, 2) +     # calmp夹断用法\n",
    "#                               (label) * torch.pow(torch.clamp(2 - euclidean_distance, min=0.0), 2))\n",
    "#     loss=loss+loss_contrastive\n",
    "#     print(loss_contrastive)\n",
    "   \n",
    "\n",
    "    \n",
    "# loss=loss/(i+10)  \n",
    "# print(loss)"
   ]
  },
  {
   "cell_type": "code",
   "execution_count": null,
   "id": "e5a69302",
   "metadata": {},
   "outputs": [],
   "source": []
  }
 ],
 "metadata": {
  "kernelspec": {
   "display_name": "newpyg",
   "language": "python",
   "name": "newpyg"
  },
  "language_info": {
   "codemirror_mode": {
    "name": "ipython",
    "version": 3
   },
   "file_extension": ".py",
   "mimetype": "text/x-python",
   "name": "python",
   "nbconvert_exporter": "python",
   "pygments_lexer": "ipython3",
   "version": "3.9.6"
  }
 },
 "nbformat": 4,
 "nbformat_minor": 5
}
